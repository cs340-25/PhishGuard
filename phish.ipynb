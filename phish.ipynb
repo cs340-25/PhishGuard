{
 "cells": [
  {
   "cell_type": "markdown",
   "id": "e1d3429c",
   "metadata": {
    "papermill": {
     "duration": 0.010471,
     "end_time": "2024-10-02T00:22:34.627999",
     "exception": false,
     "start_time": "2024-10-02T00:22:34.617528",
     "status": "completed"
    },
    "tags": []
   },
   "source": [
    "## Credit Card Fraud Kaggle Project\n",
    "\n",
    "Logistic Regression and a random forest model to predict fraudulent transactions on credit card data. "
   ]
  },
  {
   "cell_type": "code",
   "execution_count": 3,
   "id": "db0a2cd4",
   "metadata": {
    "papermill": {
     "duration": 5.775034,
     "end_time": "2024-10-02T00:22:40.412997",
     "exception": false,
     "start_time": "2024-10-02T00:22:34.637963",
     "status": "completed"
    },
    "tags": []
   },
   "outputs": [],
   "source": [
    "import pandas as pd\n",
    "import numpy as np\n",
    "import seaborn as sns\n",
    "import matplotlib.pyplot as plt\n",
    "import os\n",
    "from geopy.distance import geodesic\n",
    "import math\n",
    "import IPython\n",
    "from IPython.display import display\n",
    "from sklearn.model_selection import train_test_split\n",
    "from sklearn.linear_model import LogisticRegression\n",
    "from sklearn.preprocessing import StandardScaler\n",
    "import statsmodels.api as sm\n",
    "import statsmodels.formula.api as smf\n",
    "from sklearn.preprocessing import LabelEncoder\n",
    "from sklearn.metrics import confusion_matrix, roc_curve, roc_auc_score, classification_report\n",
    "import warnings\n",
    "warnings.filterwarnings('ignore')"
   ]
  },
  {
   "cell_type": "code",
   "execution_count": 4,
   "id": "603c3551",
   "metadata": {
    "papermill": {
     "duration": 0.142976,
     "end_time": "2024-10-02T00:22:40.567075",
     "exception": false,
     "start_time": "2024-10-02T00:22:40.424099",
     "status": "completed"
    },
    "tags": []
   },
   "outputs": [],
   "source": [
    "\n",
    "urls = [\n",
    "    \"https://raw.githubusercontent.com/rokibulroni/Phishing-Email-Dataset/refs/heads/main/CEAS_08.csv\",\n",
    "    \"https://raw.githubusercontent.com/rokibulroni/Phishing-Email-Dataset/refs/heads/main/Nazario.csv\",\n",
    "    \"https://raw.githubusercontent.com/rokibulroni/Phishing-Email-Dataset/refs/heads/main/Nigerian_Fraud.csv\",\n",
    "    \"https://github.com/rokibulroni/Phishing-Email-Dataset/raw/refs/heads/main/SpamAssasin.csv\"\n",
    "]\n",
    "\n",
    "\n",
    "#df = pd.concat([pd.read_csv(url) for url in urls], ignore_index=True)\n",
    "df = pd.read_csv(\"https://github.com/rokibulroni/Phishing-Email-Dataset/raw/refs/heads/main/SpamAssasin.csv\")\n",
    "\n",
    "\n"
   ]
  },
  {
   "cell_type": "code",
   "execution_count": 12,
   "id": "44606dde",
   "metadata": {
    "papermill": {
     "duration": 0.059621,
     "end_time": "2024-10-02T00:22:40.638141",
     "exception": false,
     "start_time": "2024-10-02T00:22:40.578520",
     "status": "completed"
    },
    "tags": []
   },
   "outputs": [
    {
     "data": {
      "text/html": [
       "<div>\n",
       "<style scoped>\n",
       "    .dataframe tbody tr th:only-of-type {\n",
       "        vertical-align: middle;\n",
       "    }\n",
       "\n",
       "    .dataframe tbody tr th {\n",
       "        vertical-align: top;\n",
       "    }\n",
       "\n",
       "    .dataframe thead th {\n",
       "        text-align: right;\n",
       "    }\n",
       "</style>\n",
       "<table border=\"1\" class=\"dataframe\">\n",
       "  <thead>\n",
       "    <tr style=\"text-align: right;\">\n",
       "      <th></th>\n",
       "      <th>sender</th>\n",
       "      <th>receiver</th>\n",
       "      <th>date</th>\n",
       "      <th>subject</th>\n",
       "      <th>body</th>\n",
       "      <th>label</th>\n",
       "      <th>urls</th>\n",
       "    </tr>\n",
       "  </thead>\n",
       "  <tbody>\n",
       "    <tr>\n",
       "      <th>0</th>\n",
       "      <td>Robert Elz &lt;kre@munnari.OZ.AU&gt;</td>\n",
       "      <td>Chris Garrigues &lt;cwg-dated-1030377287.06fa6d@D...</td>\n",
       "      <td>Thu, 22 Aug 2002 18:26:25 +0700</td>\n",
       "      <td>Re: New Sequences Window</td>\n",
       "      <td>Date:        Wed, 21 Aug 2002 10:54:46 -0500  ...</td>\n",
       "      <td>0</td>\n",
       "      <td>1</td>\n",
       "    </tr>\n",
       "    <tr>\n",
       "      <th>1</th>\n",
       "      <td>Steve Burt &lt;Steve_Burt@cursor-system.com&gt;</td>\n",
       "      <td>\"'zzzzteana@yahoogroups.com'\" &lt;zzzzteana@yahoo...</td>\n",
       "      <td>Thu, 22 Aug 2002 12:46:18 +0100</td>\n",
       "      <td>[zzzzteana] RE: Alexander</td>\n",
       "      <td>Martin A posted:\\nTassos Papadopoulos, the Gre...</td>\n",
       "      <td>0</td>\n",
       "      <td>1</td>\n",
       "    </tr>\n",
       "    <tr>\n",
       "      <th>2</th>\n",
       "      <td>\"Tim Chapman\" &lt;timc@2ubh.com&gt;</td>\n",
       "      <td>zzzzteana &lt;zzzzteana@yahoogroups.com&gt;</td>\n",
       "      <td>Thu, 22 Aug 2002 13:52:38 +0100</td>\n",
       "      <td>[zzzzteana] Moscow bomber</td>\n",
       "      <td>Man Threatens Explosion In Moscow \\n\\nThursday...</td>\n",
       "      <td>0</td>\n",
       "      <td>1</td>\n",
       "    </tr>\n",
       "    <tr>\n",
       "      <th>3</th>\n",
       "      <td>Monty Solomon &lt;monty@roscom.com&gt;</td>\n",
       "      <td>undisclosed-recipient: ;</td>\n",
       "      <td>Thu, 22 Aug 2002 09:15:25 -0400</td>\n",
       "      <td>[IRR] Klez: The Virus That  Won't Die</td>\n",
       "      <td>Klez: The Virus That Won't Die\\n \\nAlready the...</td>\n",
       "      <td>0</td>\n",
       "      <td>1</td>\n",
       "    </tr>\n",
       "    <tr>\n",
       "      <th>4</th>\n",
       "      <td>Stewart Smith &lt;Stewart.Smith@ee.ed.ac.uk&gt;</td>\n",
       "      <td>zzzzteana@yahoogroups.com</td>\n",
       "      <td>Thu, 22 Aug 2002 14:38:22 +0100</td>\n",
       "      <td>Re: [zzzzteana] Nothing like mama used to make</td>\n",
       "      <td>&gt;  in adding cream to spaghetti carbonara, whi...</td>\n",
       "      <td>0</td>\n",
       "      <td>1</td>\n",
       "    </tr>\n",
       "    <tr>\n",
       "      <th>...</th>\n",
       "      <td>...</td>\n",
       "      <td>...</td>\n",
       "      <td>...</td>\n",
       "      <td>...</td>\n",
       "      <td>...</td>\n",
       "      <td>...</td>\n",
       "      <td>...</td>\n",
       "    </tr>\n",
       "    <tr>\n",
       "      <th>5804</th>\n",
       "      <td>Professional_Career_Development_Institute@Frug...</td>\n",
       "      <td>yyyy@netnoteinc.com</td>\n",
       "      <td>Tue, 3 Dec 2002 13:19:58 -0800</td>\n",
       "      <td>Busy? Home Study Makes Sense!</td>\n",
       "      <td>\\n\\n  \\n---  \\n![](http://images.pcdi-homestud...</td>\n",
       "      <td>1</td>\n",
       "      <td>1</td>\n",
       "    </tr>\n",
       "    <tr>\n",
       "      <th>5805</th>\n",
       "      <td>\"IQ - TBA\" &lt;tba@insiq.us&gt;</td>\n",
       "      <td>&lt;yyyy@spamassassin.taint.org&gt;</td>\n",
       "      <td>Tue, 3 Dec 2002 18:52:29 -0500</td>\n",
       "      <td>Preferred Non-Smoker Rates for Smokers</td>\n",
       "      <td>This is a multi-part message in MIME format. -...</td>\n",
       "      <td>1</td>\n",
       "      <td>1</td>\n",
       "    </tr>\n",
       "    <tr>\n",
       "      <th>5806</th>\n",
       "      <td>Mike &lt;raye@yahoo.lv&gt;</td>\n",
       "      <td>Mailing.List@user2.pro-ns.net</td>\n",
       "      <td>Sun, 20 Jul 2003 16:19:44 +0800</td>\n",
       "      <td>How to get 10,000 FREE hits per day to any web...</td>\n",
       "      <td>Dear Subscriber,\\n\\nIf I could show you a way ...</td>\n",
       "      <td>1</td>\n",
       "      <td>1</td>\n",
       "    </tr>\n",
       "    <tr>\n",
       "      <th>5807</th>\n",
       "      <td>\"Mr. Clean\" &lt;cweqx@dialix.oz.au&gt;</td>\n",
       "      <td>&lt;Undisclosed.Recipients@webnote.net&gt;</td>\n",
       "      <td>Wed, 05 Aug 2020 04:01:50 -1900</td>\n",
       "      <td>Cannabis Difference</td>\n",
       "      <td>****Mid-Summer Customer Appreciation SALE!****...</td>\n",
       "      <td>1</td>\n",
       "      <td>0</td>\n",
       "    </tr>\n",
       "    <tr>\n",
       "      <th>5808</th>\n",
       "      <td>\"wilsonkamela400@netscape.net\" &lt;wilsonkamela50...</td>\n",
       "      <td>ilug@linux.ie</td>\n",
       "      <td>Wed, 04 Dec 2002 06:07:07</td>\n",
       "      <td>[ILUG] WILSON  KAMELA</td>\n",
       "      <td>ATTN:SIR/MADAN      \\n\\n                      ...</td>\n",
       "      <td>1</td>\n",
       "      <td>1</td>\n",
       "    </tr>\n",
       "  </tbody>\n",
       "</table>\n",
       "<p>5809 rows × 7 columns</p>\n",
       "</div>"
      ],
      "text/plain": [
       "                                                 sender  \\\n",
       "0                        Robert Elz <kre@munnari.OZ.AU>   \n",
       "1             Steve Burt <Steve_Burt@cursor-system.com>   \n",
       "2                         \"Tim Chapman\" <timc@2ubh.com>   \n",
       "3                      Monty Solomon <monty@roscom.com>   \n",
       "4             Stewart Smith <Stewart.Smith@ee.ed.ac.uk>   \n",
       "...                                                 ...   \n",
       "5804  Professional_Career_Development_Institute@Frug...   \n",
       "5805                          \"IQ - TBA\" <tba@insiq.us>   \n",
       "5806                               Mike <raye@yahoo.lv>   \n",
       "5807                   \"Mr. Clean\" <cweqx@dialix.oz.au>   \n",
       "5808  \"wilsonkamela400@netscape.net\" <wilsonkamela50...   \n",
       "\n",
       "                                               receiver  \\\n",
       "0     Chris Garrigues <cwg-dated-1030377287.06fa6d@D...   \n",
       "1     \"'zzzzteana@yahoogroups.com'\" <zzzzteana@yahoo...   \n",
       "2                 zzzzteana <zzzzteana@yahoogroups.com>   \n",
       "3                              undisclosed-recipient: ;   \n",
       "4                             zzzzteana@yahoogroups.com   \n",
       "...                                                 ...   \n",
       "5804                                yyyy@netnoteinc.com   \n",
       "5805                      <yyyy@spamassassin.taint.org>   \n",
       "5806                      Mailing.List@user2.pro-ns.net   \n",
       "5807               <Undisclosed.Recipients@webnote.net>   \n",
       "5808                                      ilug@linux.ie   \n",
       "\n",
       "                                 date  \\\n",
       "0     Thu, 22 Aug 2002 18:26:25 +0700   \n",
       "1     Thu, 22 Aug 2002 12:46:18 +0100   \n",
       "2     Thu, 22 Aug 2002 13:52:38 +0100   \n",
       "3     Thu, 22 Aug 2002 09:15:25 -0400   \n",
       "4     Thu, 22 Aug 2002 14:38:22 +0100   \n",
       "...                               ...   \n",
       "5804   Tue, 3 Dec 2002 13:19:58 -0800   \n",
       "5805   Tue, 3 Dec 2002 18:52:29 -0500   \n",
       "5806  Sun, 20 Jul 2003 16:19:44 +0800   \n",
       "5807  Wed, 05 Aug 2020 04:01:50 -1900   \n",
       "5808        Wed, 04 Dec 2002 06:07:07   \n",
       "\n",
       "                                                subject  \\\n",
       "0                              Re: New Sequences Window   \n",
       "1                             [zzzzteana] RE: Alexander   \n",
       "2                             [zzzzteana] Moscow bomber   \n",
       "3                 [IRR] Klez: The Virus That  Won't Die   \n",
       "4        Re: [zzzzteana] Nothing like mama used to make   \n",
       "...                                                 ...   \n",
       "5804                      Busy? Home Study Makes Sense!   \n",
       "5805             Preferred Non-Smoker Rates for Smokers   \n",
       "5806  How to get 10,000 FREE hits per day to any web...   \n",
       "5807                                Cannabis Difference   \n",
       "5808                              [ILUG] WILSON  KAMELA   \n",
       "\n",
       "                                                   body  label  urls  \n",
       "0     Date:        Wed, 21 Aug 2002 10:54:46 -0500  ...      0     1  \n",
       "1     Martin A posted:\\nTassos Papadopoulos, the Gre...      0     1  \n",
       "2     Man Threatens Explosion In Moscow \\n\\nThursday...      0     1  \n",
       "3     Klez: The Virus That Won't Die\\n \\nAlready the...      0     1  \n",
       "4     >  in adding cream to spaghetti carbonara, whi...      0     1  \n",
       "...                                                 ...    ...   ...  \n",
       "5804  \\n\\n  \\n---  \\n![](http://images.pcdi-homestud...      1     1  \n",
       "5805  This is a multi-part message in MIME format. -...      1     1  \n",
       "5806  Dear Subscriber,\\n\\nIf I could show you a way ...      1     1  \n",
       "5807  ****Mid-Summer Customer Appreciation SALE!****...      1     0  \n",
       "5808  ATTN:SIR/MADAN      \\n\\n                      ...      1     1  \n",
       "\n",
       "[5809 rows x 7 columns]"
      ]
     },
     "execution_count": 12,
     "metadata": {},
     "output_type": "execute_result"
    }
   ],
   "source": [
    "df"
   ]
  },
  {
   "cell_type": "code",
   "execution_count": 13,
   "id": "2a13b98e",
   "metadata": {
    "papermill": {
     "duration": 0.053869,
     "end_time": "2024-10-02T00:22:40.702146",
     "exception": false,
     "start_time": "2024-10-02T00:22:40.648277",
     "status": "completed"
    },
    "tags": []
   },
   "outputs": [
    {
     "name": "stdout",
     "output_type": "stream",
     "text": [
      "<class 'pandas.core.frame.DataFrame'>\n",
      "RangeIndex: 5809 entries, 0 to 5808\n",
      "Data columns (total 7 columns):\n",
      " #   Column    Non-Null Count  Dtype \n",
      "---  ------    --------------  ----- \n",
      " 0   sender    5809 non-null   object\n",
      " 1   receiver  5599 non-null   object\n",
      " 2   date      5809 non-null   object\n",
      " 3   subject   5793 non-null   object\n",
      " 4   body      5808 non-null   object\n",
      " 5   label     5809 non-null   int64 \n",
      " 6   urls      5809 non-null   int64 \n",
      "dtypes: int64(2), object(5)\n",
      "memory usage: 317.8+ KB\n",
      "None\n"
     ]
    }
   ],
   "source": [
    "print(df.info())"
   ]
  },
  {
   "cell_type": "code",
   "execution_count": 14,
   "id": "ec9ec72c",
   "metadata": {
    "papermill": {
     "duration": 0.028382,
     "end_time": "2024-10-02T00:22:40.743885",
     "exception": false,
     "start_time": "2024-10-02T00:22:40.715503",
     "status": "completed"
    },
    "tags": []
   },
   "outputs": [
    {
     "data": {
      "text/plain": [
       "label\n",
       "0    4091\n",
       "1    1718\n",
       "Name: count, dtype: int64"
      ]
     },
     "execution_count": 14,
     "metadata": {},
     "output_type": "execute_result"
    }
   ],
   "source": [
    "#Value counts show that the data is imbalanced. Which is what would be expected for fraudulent activity.\n",
    "df['label'].value_counts()"
   ]
  },
  {
   "cell_type": "code",
   "execution_count": 15,
   "id": "f98f8788",
   "metadata": {
    "papermill": {
     "duration": 0.02677,
     "end_time": "2024-10-02T00:22:40.781535",
     "exception": false,
     "start_time": "2024-10-02T00:22:40.754765",
     "status": "completed"
    },
    "tags": []
   },
   "outputs": [],
   "source": [
    "#Dropping the two observations that are not a 0 or 1 but also have a timestamp.\n",
    "# df = df[df['label'].isin(['1', '0'])]\n"
   ]
  },
  {
   "cell_type": "code",
   "execution_count": 16,
   "id": "84eabfa0",
   "metadata": {
    "papermill": {
     "duration": 0.020106,
     "end_time": "2024-10-02T00:22:40.811977",
     "exception": false,
     "start_time": "2024-10-02T00:22:40.791871",
     "status": "completed"
    },
    "tags": []
   },
   "outputs": [],
   "source": [
    "#Deleting trans_num, city_pop, city, and state as we don't want these values in the model\n",
    "# del df['trans_num']\n",
    "# del df['city']\n",
    "# del df['state']"
   ]
  },
  {
   "cell_type": "markdown",
   "id": "4db0c8ce",
   "metadata": {
    "papermill": {
     "duration": 0.010259,
     "end_time": "2024-10-02T00:22:40.832962",
     "exception": false,
     "start_time": "2024-10-02T00:22:40.822703",
     "status": "completed"
    },
    "tags": []
   },
   "source": [
    "#### Feature Engineering"
   ]
  },
  {
   "cell_type": "code",
   "execution_count": 18,
   "id": "82fa695c",
   "metadata": {
    "papermill": {
     "duration": 0.820121,
     "end_time": "2024-10-02T00:22:41.664019",
     "exception": false,
     "start_time": "2024-10-02T00:22:40.843898",
     "status": "completed"
    },
    "tags": []
   },
   "outputs": [],
   "source": [
    "# #Creating an age category\n",
    "# df['dob'][0]\n",
    "# df['age'] = (pd.to_datetime(df['trans_date_trans_time'], format=\"%d-%m-%Y %H:%M\") - \n",
    "#              pd.to_datetime(df['dob'], format=\"%d-%m-%Y\")).dt.days // 365\n",
    "\n",
    "# # Extracting the time of the day\n",
    "# df['trans_date_trans_time'][0]\n",
    "# df['trans_date_trans_time'] = pd.to_datetime(df['trans_date_trans_time'], format=\"%d-%m-%Y %H:%M\")\n",
    "# df['time_of_day'] = df['trans_date_trans_time'].dt.strftime('%H:%M')\n",
    "\n",
    "# # Hour of Day\n",
    "# df['hour'] = df['trans_date_trans_time'].dt.hour\n",
    "\n",
    "# #Extracting day of the week.\n",
    "# df['day_of_week'] = df['trans_date_trans_time'].dt.day_name()\n",
    "\n",
    "# #Create a new measure of the distance between lat and long and merchant lat and long\n",
    "# ## Define the Haversine function\n",
    "# def haversine(lat1, lon1, lat2, lon2):\n",
    "#     lat1, lon1, lat2, lon2 = map(math.radians, [lat1, lon1, lat2, lon2])\n",
    "#     dlat = lat2 - lat1\n",
    "#     dlon = lon2 - lon1\n",
    "#     a = math.sin(dlat / 2) ** 2 + math.cos(lat1) * math.cos(lat2) * math.sin(dlon / 2) ** 2\n",
    "#     c = 2 * math.asin(math.sqrt(a))\n",
    "#     r = 6371.0  # Radius of Earth in kilometers\n",
    "#     distance = r * c\n",
    "#     return distance\n",
    "    \n",
    "# ## Apply Haversine function row-wise\n",
    "# df['distance_km'] = df.apply(\n",
    "#     lambda row: haversine(row['lat'], row['long'], row['merch_lat'], row['merch_long']),\n",
    "#     axis=1\n",
    "# )\n",
    "\n"
   ]
  },
  {
   "cell_type": "code",
   "execution_count": 19,
   "id": "710151b5",
   "metadata": {
    "papermill": {
     "duration": 0.157305,
     "end_time": "2024-10-02T00:22:41.831619",
     "exception": false,
     "start_time": "2024-10-02T00:22:41.674314",
     "status": "completed"
    },
    "tags": []
   },
   "outputs": [],
   "source": [
    "# #Creating job categories.\n",
    "# def job_categories(profession):\n",
    "#     profession_lower = profession.lower()\n",
    "    \n",
    "#     # Education, Training, and Research\n",
    "#     if any(keyword in profession_lower for keyword in [\n",
    "#         'administrator, education', 'lecturer', 'teacher', 'professor', 'telecommunications researcher',\n",
    "#         'research scientist', 'education officer', 'learning mentor', 'teaching laboratory technician',\n",
    "#         'special educational needs', 'research officer', 'science writer', 'education administrator']):\n",
    "#         return 'Education, Training, and Research'\n",
    "    \n",
    "#     # Healthcare, Therapy, and Well-being\n",
    "#     elif any(keyword in profession_lower for keyword in [\n",
    "#         'nurse', 'therapist', 'psychologist', 'counsellor', 'pharmacist', 'osteopath', 'chiropodist',\n",
    "#         'health', 'clinical', 'physiotherapist', 'medical', 'audiological', 'exercise physiologist',\n",
    "#         'music therapist', 'occupational therapist', 'podiatrist', 'occupational hygienist']):\n",
    "#         return 'Healthcare, Therapy, and Well-being'\n",
    "    \n",
    "#     # Science, Engineering, and Technology\n",
    "#     elif any(keyword in profession_lower for keyword in [\n",
    "#         'cytogeneticist', 'scientist', 'engineer', 'geoscientist', 'geologist',\n",
    "#         'cartographer', 'soil scientist', 'water engineer', 'systems developer']):\n",
    "#         return 'Science, Engineering, and Technology'\n",
    "    \n",
    "#     # Business, Finance, and Law\n",
    "#     elif any(keyword in profession_lower for keyword in [\n",
    "#         'solicitor', 'legal', 'accountant', 'tax inspector', 'investment banker', 'economist',\n",
    "#         'investment analyst', 'comptroller', 'financial', 'officer', 'sales', 'retail merchandiser',\n",
    "#         'manager', 'chief marketing officer', 'marketing executive', 'public relations', 'futures trader',\n",
    "#         'clothing/textile technologist', 'insurance broker', 'advertising account planner']):\n",
    "#         return 'Business, Finance, and Law'\n",
    "    \n",
    "#     # Creative Arts, Design, and Media\n",
    "#     elif any(keyword in profession_lower for keyword in [\n",
    "#         'artist', 'set designer', 'web designer', 'glass blower', 'fashion designer', 'community arts worker',\n",
    "#         'editor', 'journalist', 'video editor', 'musician', 'commissioning editor', \n",
    "#         'television', 'radio', 'media', 'production', 'designer', 'features editor']):\n",
    "#         return 'Creative Arts, Design, and Media'\n",
    "    \n",
    "#     # Construction, Planning, and Environment\n",
    "#     elif any(keyword in profession_lower for keyword in [\n",
    "#         'architect', 'landscape architect', 'building surveyor', 'town planner',\n",
    "#         'planning and development', 'minerals surveyor', 'civil engineer',\n",
    "#         'historic buildings inspector', 'petroleum engineer', 'construction', 'surveyor, minerals',\n",
    "#         'land/geomatics surveyor', 'buyer, industrial', 'surveyor, land/geomatics', 'contractor',\n",
    "#         'surveyor, mining', 'metallurgist']):\n",
    "#         return 'Construction, Planning, and Environment'\n",
    "    \n",
    "#     # Public Sector, Civil Service, and Government\n",
    "#     elif any(keyword in profession_lower for keyword in [\n",
    "#         'civil service', 'local government officer', 'immigration officer',\n",
    "#         'armed forces', 'charity officer', 'international aid', 'police', 'firefighter',\n",
    "#         'intelligence analyst', 'public librarian', 'administrator, local government']):\n",
    "#         return 'Public Sector, Civil Service, and Government'\n",
    "    \n",
    "#     # IT and Information Systems\n",
    "#     elif any(keyword in profession_lower for keyword in [\n",
    "#         'network engineer', 'systems analyst', 'information officer', 'it consultant', \n",
    "#         'information systems manager', 'developer']):\n",
    "#         return 'IT and Information Systems'\n",
    "\n",
    "#      # Pilot\n",
    "#     elif any(keyword in profession_lower for keyword in [\n",
    "#         'airline pilot', 'pilot, airline']):\n",
    "#         return 'Pilot'\n",
    "    \n",
    "#     # Other\n",
    "#     else:\n",
    "#         return 'Other'\n",
    "\n",
    "# # Apply the function to the column 'job'\n",
    "# df['professions'] = df['job'].apply(job_categories)"
   ]
  },
  {
   "cell_type": "code",
   "execution_count": 20,
   "id": "42de91d1",
   "metadata": {
    "papermill": {
     "duration": 0.042753,
     "end_time": "2024-10-02T00:22:41.884728",
     "exception": false,
     "start_time": "2024-10-02T00:22:41.841975",
     "status": "completed"
    },
    "tags": []
   },
   "outputs": [],
   "source": [
    "# #Transforming specific data into categorical variables.\n",
    "df['sender'] = df['sender'].astype('category')\n",
    "df['receiver'] = df['receiver'].astype('category')\n",
    "#df['city'] = df['city'].astype('category')\n",
    "#df['state'] = df['state'].astype('category')\n",
    "df['date'] = df['date'].astype('category')\n",
    "df['subject'] = df['subject'].astype('category')\n",
    "df['body'] = df['body'].astype('category')\n",
    "df['label'] = df['label'].astype(int)\n",
    "df['urls'] = df['urls'].astype(int)"
   ]
  },
  {
   "cell_type": "code",
   "execution_count": 7,
   "id": "582239d6",
   "metadata": {
    "papermill": {
     "duration": 0.042869,
     "end_time": "2024-10-02T00:22:41.938000",
     "exception": false,
     "start_time": "2024-10-02T00:22:41.895131",
     "status": "completed"
    },
    "tags": []
   },
   "outputs": [
    {
     "name": "stdout",
     "output_type": "stream",
     "text": [
      "<class 'pandas.core.frame.DataFrame'>\n",
      "RangeIndex: 5809 entries, 0 to 5808\n",
      "Data columns (total 7 columns):\n",
      " #   Column    Non-Null Count  Dtype \n",
      "---  ------    --------------  ----- \n",
      " 0   sender    5809 non-null   object\n",
      " 1   receiver  5599 non-null   object\n",
      " 2   date      5809 non-null   object\n",
      " 3   subject   5793 non-null   object\n",
      " 4   body      5808 non-null   object\n",
      " 5   label     5809 non-null   int64 \n",
      " 6   urls      5809 non-null   int64 \n",
      "dtypes: int64(2), object(5)\n",
      "memory usage: 317.8+ KB\n",
      "None\n"
     ]
    },
    {
     "data": {
      "text/html": [
       "<div>\n",
       "<style scoped>\n",
       "    .dataframe tbody tr th:only-of-type {\n",
       "        vertical-align: middle;\n",
       "    }\n",
       "\n",
       "    .dataframe tbody tr th {\n",
       "        vertical-align: top;\n",
       "    }\n",
       "\n",
       "    .dataframe thead th {\n",
       "        text-align: right;\n",
       "    }\n",
       "</style>\n",
       "<table border=\"1\" class=\"dataframe\">\n",
       "  <thead>\n",
       "    <tr style=\"text-align: right;\">\n",
       "      <th></th>\n",
       "      <th>sender</th>\n",
       "      <th>receiver</th>\n",
       "      <th>date</th>\n",
       "      <th>subject</th>\n",
       "      <th>body</th>\n",
       "      <th>label</th>\n",
       "      <th>urls</th>\n",
       "    </tr>\n",
       "  </thead>\n",
       "  <tbody>\n",
       "    <tr>\n",
       "      <th>0</th>\n",
       "      <td>Robert Elz &lt;kre@munnari.OZ.AU&gt;</td>\n",
       "      <td>Chris Garrigues &lt;cwg-dated-1030377287.06fa6d@D...</td>\n",
       "      <td>Thu, 22 Aug 2002 18:26:25 +0700</td>\n",
       "      <td>Re: New Sequences Window</td>\n",
       "      <td>Date:        Wed, 21 Aug 2002 10:54:46 -0500  ...</td>\n",
       "      <td>0</td>\n",
       "      <td>1</td>\n",
       "    </tr>\n",
       "    <tr>\n",
       "      <th>1</th>\n",
       "      <td>Steve Burt &lt;Steve_Burt@cursor-system.com&gt;</td>\n",
       "      <td>\"'zzzzteana@yahoogroups.com'\" &lt;zzzzteana@yahoo...</td>\n",
       "      <td>Thu, 22 Aug 2002 12:46:18 +0100</td>\n",
       "      <td>[zzzzteana] RE: Alexander</td>\n",
       "      <td>Martin A posted:\\nTassos Papadopoulos, the Gre...</td>\n",
       "      <td>0</td>\n",
       "      <td>1</td>\n",
       "    </tr>\n",
       "    <tr>\n",
       "      <th>2</th>\n",
       "      <td>\"Tim Chapman\" &lt;timc@2ubh.com&gt;</td>\n",
       "      <td>zzzzteana &lt;zzzzteana@yahoogroups.com&gt;</td>\n",
       "      <td>Thu, 22 Aug 2002 13:52:38 +0100</td>\n",
       "      <td>[zzzzteana] Moscow bomber</td>\n",
       "      <td>Man Threatens Explosion In Moscow \\n\\nThursday...</td>\n",
       "      <td>0</td>\n",
       "      <td>1</td>\n",
       "    </tr>\n",
       "    <tr>\n",
       "      <th>3</th>\n",
       "      <td>Monty Solomon &lt;monty@roscom.com&gt;</td>\n",
       "      <td>undisclosed-recipient: ;</td>\n",
       "      <td>Thu, 22 Aug 2002 09:15:25 -0400</td>\n",
       "      <td>[IRR] Klez: The Virus That  Won't Die</td>\n",
       "      <td>Klez: The Virus That Won't Die\\n \\nAlready the...</td>\n",
       "      <td>0</td>\n",
       "      <td>1</td>\n",
       "    </tr>\n",
       "    <tr>\n",
       "      <th>4</th>\n",
       "      <td>Stewart Smith &lt;Stewart.Smith@ee.ed.ac.uk&gt;</td>\n",
       "      <td>zzzzteana@yahoogroups.com</td>\n",
       "      <td>Thu, 22 Aug 2002 14:38:22 +0100</td>\n",
       "      <td>Re: [zzzzteana] Nothing like mama used to make</td>\n",
       "      <td>&gt;  in adding cream to spaghetti carbonara, whi...</td>\n",
       "      <td>0</td>\n",
       "      <td>1</td>\n",
       "    </tr>\n",
       "    <tr>\n",
       "      <th>...</th>\n",
       "      <td>...</td>\n",
       "      <td>...</td>\n",
       "      <td>...</td>\n",
       "      <td>...</td>\n",
       "      <td>...</td>\n",
       "      <td>...</td>\n",
       "      <td>...</td>\n",
       "    </tr>\n",
       "    <tr>\n",
       "      <th>5804</th>\n",
       "      <td>Professional_Career_Development_Institute@Frug...</td>\n",
       "      <td>yyyy@netnoteinc.com</td>\n",
       "      <td>Tue, 3 Dec 2002 13:19:58 -0800</td>\n",
       "      <td>Busy? Home Study Makes Sense!</td>\n",
       "      <td>\\n\\n  \\n---  \\n![](http://images.pcdi-homestud...</td>\n",
       "      <td>1</td>\n",
       "      <td>1</td>\n",
       "    </tr>\n",
       "    <tr>\n",
       "      <th>5805</th>\n",
       "      <td>\"IQ - TBA\" &lt;tba@insiq.us&gt;</td>\n",
       "      <td>&lt;yyyy@spamassassin.taint.org&gt;</td>\n",
       "      <td>Tue, 3 Dec 2002 18:52:29 -0500</td>\n",
       "      <td>Preferred Non-Smoker Rates for Smokers</td>\n",
       "      <td>This is a multi-part message in MIME format. -...</td>\n",
       "      <td>1</td>\n",
       "      <td>1</td>\n",
       "    </tr>\n",
       "    <tr>\n",
       "      <th>5806</th>\n",
       "      <td>Mike &lt;raye@yahoo.lv&gt;</td>\n",
       "      <td>Mailing.List@user2.pro-ns.net</td>\n",
       "      <td>Sun, 20 Jul 2003 16:19:44 +0800</td>\n",
       "      <td>How to get 10,000 FREE hits per day to any web...</td>\n",
       "      <td>Dear Subscriber,\\n\\nIf I could show you a way ...</td>\n",
       "      <td>1</td>\n",
       "      <td>1</td>\n",
       "    </tr>\n",
       "    <tr>\n",
       "      <th>5807</th>\n",
       "      <td>\"Mr. Clean\" &lt;cweqx@dialix.oz.au&gt;</td>\n",
       "      <td>&lt;Undisclosed.Recipients@webnote.net&gt;</td>\n",
       "      <td>Wed, 05 Aug 2020 04:01:50 -1900</td>\n",
       "      <td>Cannabis Difference</td>\n",
       "      <td>****Mid-Summer Customer Appreciation SALE!****...</td>\n",
       "      <td>1</td>\n",
       "      <td>0</td>\n",
       "    </tr>\n",
       "    <tr>\n",
       "      <th>5808</th>\n",
       "      <td>\"wilsonkamela400@netscape.net\" &lt;wilsonkamela50...</td>\n",
       "      <td>ilug@linux.ie</td>\n",
       "      <td>Wed, 04 Dec 2002 06:07:07</td>\n",
       "      <td>[ILUG] WILSON  KAMELA</td>\n",
       "      <td>ATTN:SIR/MADAN      \\n\\n                      ...</td>\n",
       "      <td>1</td>\n",
       "      <td>1</td>\n",
       "    </tr>\n",
       "  </tbody>\n",
       "</table>\n",
       "<p>5809 rows × 7 columns</p>\n",
       "</div>"
      ],
      "text/plain": [
       "                                                 sender  \\\n",
       "0                        Robert Elz <kre@munnari.OZ.AU>   \n",
       "1             Steve Burt <Steve_Burt@cursor-system.com>   \n",
       "2                         \"Tim Chapman\" <timc@2ubh.com>   \n",
       "3                      Monty Solomon <monty@roscom.com>   \n",
       "4             Stewart Smith <Stewart.Smith@ee.ed.ac.uk>   \n",
       "...                                                 ...   \n",
       "5804  Professional_Career_Development_Institute@Frug...   \n",
       "5805                          \"IQ - TBA\" <tba@insiq.us>   \n",
       "5806                               Mike <raye@yahoo.lv>   \n",
       "5807                   \"Mr. Clean\" <cweqx@dialix.oz.au>   \n",
       "5808  \"wilsonkamela400@netscape.net\" <wilsonkamela50...   \n",
       "\n",
       "                                               receiver  \\\n",
       "0     Chris Garrigues <cwg-dated-1030377287.06fa6d@D...   \n",
       "1     \"'zzzzteana@yahoogroups.com'\" <zzzzteana@yahoo...   \n",
       "2                 zzzzteana <zzzzteana@yahoogroups.com>   \n",
       "3                              undisclosed-recipient: ;   \n",
       "4                             zzzzteana@yahoogroups.com   \n",
       "...                                                 ...   \n",
       "5804                                yyyy@netnoteinc.com   \n",
       "5805                      <yyyy@spamassassin.taint.org>   \n",
       "5806                      Mailing.List@user2.pro-ns.net   \n",
       "5807               <Undisclosed.Recipients@webnote.net>   \n",
       "5808                                      ilug@linux.ie   \n",
       "\n",
       "                                 date  \\\n",
       "0     Thu, 22 Aug 2002 18:26:25 +0700   \n",
       "1     Thu, 22 Aug 2002 12:46:18 +0100   \n",
       "2     Thu, 22 Aug 2002 13:52:38 +0100   \n",
       "3     Thu, 22 Aug 2002 09:15:25 -0400   \n",
       "4     Thu, 22 Aug 2002 14:38:22 +0100   \n",
       "...                               ...   \n",
       "5804   Tue, 3 Dec 2002 13:19:58 -0800   \n",
       "5805   Tue, 3 Dec 2002 18:52:29 -0500   \n",
       "5806  Sun, 20 Jul 2003 16:19:44 +0800   \n",
       "5807  Wed, 05 Aug 2020 04:01:50 -1900   \n",
       "5808        Wed, 04 Dec 2002 06:07:07   \n",
       "\n",
       "                                                subject  \\\n",
       "0                              Re: New Sequences Window   \n",
       "1                             [zzzzteana] RE: Alexander   \n",
       "2                             [zzzzteana] Moscow bomber   \n",
       "3                 [IRR] Klez: The Virus That  Won't Die   \n",
       "4        Re: [zzzzteana] Nothing like mama used to make   \n",
       "...                                                 ...   \n",
       "5804                      Busy? Home Study Makes Sense!   \n",
       "5805             Preferred Non-Smoker Rates for Smokers   \n",
       "5806  How to get 10,000 FREE hits per day to any web...   \n",
       "5807                                Cannabis Difference   \n",
       "5808                              [ILUG] WILSON  KAMELA   \n",
       "\n",
       "                                                   body  label  urls  \n",
       "0     Date:        Wed, 21 Aug 2002 10:54:46 -0500  ...      0     1  \n",
       "1     Martin A posted:\\nTassos Papadopoulos, the Gre...      0     1  \n",
       "2     Man Threatens Explosion In Moscow \\n\\nThursday...      0     1  \n",
       "3     Klez: The Virus That Won't Die\\n \\nAlready the...      0     1  \n",
       "4     >  in adding cream to spaghetti carbonara, whi...      0     1  \n",
       "...                                                 ...    ...   ...  \n",
       "5804  \\n\\n  \\n---  \\n![](http://images.pcdi-homestud...      1     1  \n",
       "5805  This is a multi-part message in MIME format. -...      1     1  \n",
       "5806  Dear Subscriber,\\n\\nIf I could show you a way ...      1     1  \n",
       "5807  ****Mid-Summer Customer Appreciation SALE!****...      1     0  \n",
       "5808  ATTN:SIR/MADAN      \\n\\n                      ...      1     1  \n",
       "\n",
       "[5809 rows x 7 columns]"
      ]
     },
     "execution_count": 7,
     "metadata": {},
     "output_type": "execute_result"
    }
   ],
   "source": [
    "#Checking the variable types.\n",
    "print(df.info())\n",
    "df"
   ]
  },
  {
   "cell_type": "code",
   "execution_count": 22,
   "id": "ac59f58c",
   "metadata": {
    "papermill": {
     "duration": 0.515911,
     "end_time": "2024-10-02T00:22:42.464335",
     "exception": false,
     "start_time": "2024-10-02T00:22:41.948424",
     "status": "completed"
    },
    "tags": []
   },
   "outputs": [],
   "source": [
    "# # The correlation matrix shows that the numeric data is not correlated.\n",
    "# #quantdata = df[[\"amt\", \"city_pop\", \"age\", \"distance_km\"]]\n",
    "# quantdata = df[[\"urls\", \"body\", \"sender\"]]\n",
    "# corr_matrix = quantdata.corr()\n",
    "# plt.figure(figsize=(16, 12))\n",
    "# sns.heatmap(corr_matrix, annot=True, cmap='Blues')\n",
    "# plt.title(\"Correlation Heatmap\")\n",
    "# plt.show()"
   ]
  },
  {
   "cell_type": "code",
   "execution_count": 9,
   "id": "1911bd36",
   "metadata": {
    "papermill": {
     "duration": 0.031285,
     "end_time": "2024-10-02T00:22:42.507842",
     "exception": false,
     "start_time": "2024-10-02T00:22:42.476557",
     "status": "completed"
    },
    "tags": []
   },
   "outputs": [
    {
     "name": "stdout",
     "output_type": "stream",
     "text": [
      "sender        0\n",
      "receiver    210\n",
      "date          0\n",
      "subject      16\n",
      "body          1\n",
      "label         0\n",
      "urls          0\n",
      "dtype: int64\n",
      "\n",
      " sender      0\n",
      "receiver    0\n",
      "date        0\n",
      "subject     0\n",
      "body        0\n",
      "label       0\n",
      "urls        0\n",
      "dtype: int64\n"
     ]
    }
   ],
   "source": [
    "#No NAs in dataset before data modeling.\n",
    "nan_counts = df.isna().sum()\n",
    "print(nan_counts)\n",
    "\n",
    "df = df.dropna()\n",
    "nan_counts = df.isna().sum()\n",
    "\n",
    "print(\"\\n\", nan_counts)"
   ]
  },
  {
   "cell_type": "markdown",
   "id": "a50625e2",
   "metadata": {
    "papermill": {
     "duration": 0.011592,
     "end_time": "2024-10-02T00:22:42.531161",
     "exception": false,
     "start_time": "2024-10-02T00:22:42.519569",
     "status": "completed"
    },
    "tags": []
   },
   "source": [
    "### Logistic Regression to Predict Fraud"
   ]
  },
  {
   "cell_type": "code",
   "execution_count": 11,
   "id": "fc5ee903",
   "metadata": {
    "papermill": {
     "duration": 0.033137,
     "end_time": "2024-10-02T00:22:42.576265",
     "exception": false,
     "start_time": "2024-10-02T00:22:42.543128",
     "status": "completed"
    },
    "tags": []
   },
   "outputs": [],
   "source": [
    "#Split into Train and Test\n",
    "train_data, test_data = train_test_split(df, test_size=0.3, random_state=42)"
   ]
  },
  {
   "cell_type": "code",
   "execution_count": null,
   "id": "b1446cee",
   "metadata": {
    "papermill": {
     "duration": 0.268856,
     "end_time": "2024-10-02T00:22:42.859397",
     "exception": false,
     "start_time": "2024-10-02T00:22:42.590541",
     "status": "completed"
    },
    "tags": []
   },
   "outputs": [],
   "source": [
    "# #formula = \"label ~ age + amt + hour + category + state\"\n",
    "# formula = \"label ~ sender + receiver + date + subject + body + urls\"\n",
    "# log_reg = smf.logit(formula = formula, data = train_data).fit(maxiter=1000)"
   ]
  },
  {
   "cell_type": "code",
   "execution_count": null,
   "id": "07078680",
   "metadata": {
    "papermill": {
     "duration": 0.320732,
     "end_time": "2024-10-02T00:22:43.204309",
     "exception": false,
     "start_time": "2024-10-02T00:22:42.883577",
     "status": "completed"
    },
    "tags": []
   },
   "outputs": [],
   "source": [
    "# from IPython.display import display\n",
    "# #Predict Probabilities\n",
    "# preds = log_reg.predict(test_data)\n",
    "# #Add predictions and agreement columns to the dataframe\n",
    "# test_data['prob'] = preds\n",
    "# test_data['prediction'] = np.where(test_data['prob'] > 0.4, 1, 0)\n",
    "# test_data['agree'] = np.where(test_data['prediction'] == test_data['label'], 1, 0)\n",
    "# #calculate naive accuracy, model accuracy, and AUC\n",
    "# naive_accuracy = 1 - test_data['label'].sum() / len(test_data)\n",
    "# accuracy = test_data['agree'].sum() / len(test_data)\n",
    "# auc = roc_auc_score(test_data['label'], preds)\n",
    "# #Identify Disagreements\n",
    "# disagree = test_data[test_data['agree'] == 0]\n",
    "# #Display Results\n",
    "# display(naive_accuracy, accuracy, auc, log_reg.summary())"
   ]
  },
  {
   "cell_type": "code",
   "execution_count": null,
   "id": "3115d81f",
   "metadata": {
    "papermill": {
     "duration": 0.237291,
     "end_time": "2024-10-02T00:22:43.454067",
     "exception": false,
     "start_time": "2024-10-02T00:22:43.216776",
     "status": "completed"
    },
    "tags": []
   },
   "outputs": [],
   "source": [
    "# # Compute the confusion matrix\n",
    "# cm = confusion_matrix(test_data['label'], test_data['prediction'])\n",
    "\n",
    "# # Define labels for the classes\n",
    "# labels = [\"Not Fraud\", \"Fraud\"]\n",
    "\n",
    "# plt.figure(figsize=(8,6))\n",
    "# sns.heatmap(cm, annot=True, fmt='d', cmap='Blues', cbar=False, \n",
    "#             xticklabels=labels, yticklabels=labels, annot_kws={\"size\": 12})\n",
    "# plt.xlabel('Predicted Labels')\n",
    "# plt.ylabel('True Labels')\n",
    "# plt.title('Confusion Matrix')\n",
    "# plt.show()\n",
    "\n",
    "\n",
    "# print(\"#\" * 60)\n",
    "# print(\" \" * 60, \"Classification Report\")\n",
    "# print(classification_report(test_data['label'], test_data['prediction']))"
   ]
  },
  {
   "cell_type": "code",
   "execution_count": 21,
   "id": "d4cd8996",
   "metadata": {
    "papermill": {
     "duration": 0.397245,
     "end_time": "2024-10-02T00:22:43.864470",
     "exception": false,
     "start_time": "2024-10-02T00:22:43.467225",
     "status": "completed"
    },
    "tags": []
   },
   "outputs": [
    {
     "data": {
      "image/png": "[encoded data removed]",
      "text/plain": [
       "<Figure size 800x600 with 1 Axes>"
      ]
     },
     "metadata": {},
     "output_type": "display_data"
    }
   ],
   "source": [
    "# preds = log_reg.predict(test_data)\n",
    "# y_pred_proba = 1 / (1 + np.exp(-preds))\n",
    "\n",
    "# fpr, tpr, _ = roc_curve(test_data['label'], y_pred_proba)\n",
    "\n",
    "# plt.figure(figsize=(8,6))\n",
    "# plt.plot(fpr, tpr, color='b', label=f'AUC = {auc:.2f}')\n",
    "# plt.plot([0, 1], [0, 1], 'r--', label='Random Guessing')\n",
    "# plt.xlabel('False Positive Rate')\n",
    "# plt.ylabel('True Positive Rate')\n",
    "# plt.title('Roc Curve')\n",
    "# plt.legend(loc='lower right')\n",
    "# plt.grid(True)\n",
    "# plt.show()"
   ]
  },
  {
   "cell_type": "markdown",
   "id": "a509f96d",
   "metadata": {
    "papermill": {
     "duration": 0.013326,
     "end_time": "2024-10-02T00:22:43.891731",
     "exception": false,
     "start_time": "2024-10-02T00:22:43.878405",
     "status": "completed"
    },
    "tags": []
   },
   "source": [
    "### Gradient Boosted Random Forest for Fraud Prediction"
   ]
  },
  {
   "cell_type": "code",
   "execution_count": 15,
   "id": "c5b80889",
   "metadata": {
    "papermill": {
     "duration": 0.051339,
     "end_time": "2024-10-02T00:22:43.956751",
     "exception": false,
     "start_time": "2024-10-02T00:22:43.905412",
     "status": "completed"
    },
    "tags": []
   },
   "outputs": [],
   "source": [
    "#creating a new dataframe for the Random Forest\n",
    "#sender + receiver + date + subject + body + urls\n",
    "dftree = df[['label', 'sender', 'receiver', 'date', 'subject', 'body', 'urls']].copy()\n",
    "from sklearn.preprocessing import LabelEncoder\n",
    "\n",
    "# Initialize the label encoder\n",
    "le = LabelEncoder()\n",
    "\n",
    "# Apply label encoding to each categorical column\n",
    "dftree['sender'] = le.fit_transform(dftree['sender'])\n",
    "dftree['receiver'] = le.fit_transform(dftree['receiver'])\n",
    "dftree['date'] = le.fit_transform(dftree['date'])\n",
    "dftree['subject'] = le.fit_transform(dftree['subject'])\n",
    "dftree['body'] = le.fit_transform(dftree['body'])\n"
   ]
  },
  {
   "cell_type": "code",
   "execution_count": 17,
   "id": "97fe737d",
   "metadata": {
    "papermill": {
     "duration": 2.172882,
     "end_time": "2024-10-02T00:22:46.143302",
     "exception": false,
     "start_time": "2024-10-02T00:22:43.970420",
     "status": "completed"
    },
    "tags": []
   },
   "outputs": [
    {
     "data": {
      "image/png": "[encoded data removed]",
      "text/plain": [
       "<Figure size 800x600 with 1 Axes>"
      ]
     },
     "metadata": {},
     "output_type": "display_data"
    },
    {
     "name": "stdout",
     "output_type": "stream",
     "text": [
      "############################################################\n",
      "                     Classification Report\n",
      "              precision    recall  f1-score   support\n",
      "\n",
      "           0       0.94      0.96      0.95      1177\n",
      "           1       0.90      0.87      0.88       498\n",
      "\n",
      "    accuracy                           0.93      1675\n",
      "   macro avg       0.92      0.91      0.92      1675\n",
      "weighted avg       0.93      0.93      0.93      1675\n",
      "\n"
     ]
    }
   ],
   "source": [
    "from sklearn.ensemble import RandomForestClassifier\n",
    "from sklearn.model_selection import train_test_split\n",
    "from sklearn.metrics import classification_report, confusion_matrix, roc_auc_score\n",
    "\n",
    "# Splitting the dataset into train and test sets\n",
    "X = dftree.drop(columns=['label'])  # Features\n",
    "y = dftree['label']                # Target variable\n",
    "\n",
    "X_train, X_test, y_train, y_test = train_test_split(X, y, test_size=0.3, random_state=42, stratify=y)\n",
    "\n",
    "# Initialize Random Forest with class weight to handle imbalanced classes\n",
    "rf = RandomForestClassifier(class_weight='balanced', random_state=42)\n",
    "\n",
    "# Train the model\n",
    "rf.fit(X_train, y_train)\n",
    "\n",
    "# Make predictions\n",
    "y_pred = rf.predict(X_test)\n",
    "y_prob = rf.predict_proba(X_test)[:, 1]  # For AUC-ROC score\n",
    "\n",
    "\n",
    "# Compute the confusion matrix\n",
    "cm1 = confusion_matrix(y_test, y_pred)\n",
    "# Define labels for the classes\n",
    "labels = [\"Not Fraud\", \"Fraud\"]\n",
    "plt.figure(figsize=(8,6))\n",
    "sns.heatmap(cm1, annot=True, fmt='d', cmap='Blues', cbar=False, \n",
    "            xticklabels=labels, yticklabels=labels, annot_kws={\"size\": 12})\n",
    "plt.xlabel('Predicted Labels')\n",
    "plt.ylabel('True Labels')\n",
    "plt.title('Confusion Matrix')\n",
    "plt.show()\n",
    "\n",
    "print(\"#\" * 60)\n",
    "print(\" \" * 20, \"Classification Report\")\n",
    "print(classification_report(y_test, y_pred))"
   ]
  },
  {
   "cell_type": "code",
   "execution_count": 19,
   "id": "671b597d",
   "metadata": {
    "papermill": {
     "duration": 0.363002,
     "end_time": "2024-10-02T00:22:46.534348",
     "exception": false,
     "start_time": "2024-10-02T00:22:46.171346",
     "status": "completed"
    },
    "tags": []
   },
   "outputs": [
    {
     "data": {
      "image/png": "[encoded data removed]",
      "text/plain": [
       "<Figure size 1000x600 with 1 Axes>"
      ]
     },
     "metadata": {},
     "output_type": "display_data"
    }
   ],
   "source": [
    "importances = rf.feature_importances_\n",
    "\n",
    "indices = np.argsort(importances)[::-1]\n",
    "\n",
    "feature_names = X_train.columns\n",
    "\n",
    "# Plot feature importances\n",
    "plt.figure(figsize=(10, 6))\n",
    "plt.title(\"Feature Importance in Random Forest\")\n",
    "plt.bar(range(X_train.shape[1]), importances[indices], align=\"center\")\n",
    "plt.xticks(range(X_train.shape[1]), np.array(feature_names)[indices], rotation=90)\n",
    "plt.xlim([-1, X_train.shape[1]])\n",
    "plt.show()"
   ]
  },
  {
   "cell_type": "code",
   "execution_count": 22,
   "id": "595d4575",
   "metadata": {
    "execution": {
     "iopub.execute_input": "2024-10-02T00:22:46.568244Z",
     "iopub.status.busy": "2024-10-02T00:22:46.567758Z",
     "iopub.status.idle": "2024-10-02T00:22:46.574502Z",
     "shell.execute_reply": "2024-10-02T00:22:46.573275Z"
    },
    "papermill": {
     "duration": 0.026707,
     "end_time": "2024-10-02T00:22:46.577088",
     "exception": false,
     "start_time": "2024-10-02T00:22:46.550381",
     "status": "completed"
    },
    "tags": []
   },
   "outputs": [
    {
     "name": "stdout",
     "output_type": "stream",
     "text": [
      "{'bootstrap': True, 'ccp_alpha': 0.0, 'class_weight': 'balanced', 'criterion': 'gini', 'max_depth': None, 'max_features': 'sqrt', 'max_leaf_nodes': None, 'max_samples': None, 'min_impurity_decrease': 0.0, 'min_samples_leaf': 1, 'min_samples_split': 2, 'min_weight_fraction_leaf': 0.0, 'n_estimators': 100, 'n_jobs': None, 'oob_score': False, 'random_state': 42, 'verbose': 0, 'warm_start': False}\n"
     ]
    }
   ],
   "source": [
    "#print(rf.get_params())"
   ]
  },
  {
   "cell_type": "code",
   "execution_count": 23,
   "id": "ee16bf65",
   "metadata": {
    "execution": {
     "iopub.execute_input": "2024-10-02T00:22:46.610657Z",
     "iopub.status.busy": "2024-10-02T00:22:46.610140Z",
     "iopub.status.idle": "2024-10-02T00:22:46.885406Z",
     "shell.execute_reply": "2024-10-02T00:22:46.883882Z"
    },
    "papermill": {
     "duration": 0.296185,
     "end_time": "2024-10-02T00:22:46.888269",
     "exception": false,
     "start_time": "2024-10-02T00:22:46.592084",
     "status": "completed"
    },
    "tags": []
   },
   "outputs": [
    {
     "data": {
      "image/png": "[encoded data removed]",
      "text/plain": [
       "<Figure size 800x600 with 1 Axes>"
      ]
     },
     "metadata": {},
     "output_type": "display_data"
    }
   ],
   "source": [
    "import matplotlib.pyplot as plt\n",
    "from sklearn.metrics import roc_curve, auc, roc_auc_score\n",
    "fpr, tpr, thresholds = roc_curve(y_test, y_prob)\n",
    "\n",
    "roc_auc = auc(fpr, tpr)\n",
    "\n",
    "# Plot the ROC curve\n",
    "plt.figure(figsize=(8, 6))\n",
    "plt.plot(fpr, tpr, color='b', lw=2, label='ROC curve (AUC = %0.2f)' % roc_auc)\n",
    "plt.plot([0, 1], [0, 1], 'r--', label='Random Guessing')\n",
    "plt.xlim([0.0, 1.0])\n",
    "plt.ylim([0.0, 1.05])\n",
    "plt.xlabel('False Positive Rate')\n",
    "plt.ylabel('True Positive Rate')\n",
    "plt.title('Receiver Operating Characteristic (ROC)')\n",
    "plt.legend(loc=\"lower right\")\n",
    "plt.show()\n",
    "\n"
   ]
  },
  {
   "cell_type": "code",
   "execution_count": 24,
   "id": "cd5d1458",
   "metadata": {
    "execution": {
     "iopub.execute_input": "2024-10-02T00:22:46.923852Z",
     "iopub.status.busy": "2024-10-02T00:22:46.922448Z",
     "iopub.status.idle": "2024-10-02T00:22:56.654710Z",
     "shell.execute_reply": "2024-10-02T00:22:56.652847Z"
    },
    "papermill": {
     "duration": 9.753476,
     "end_time": "2024-10-02T00:22:56.657708",
     "exception": false,
     "start_time": "2024-10-02T00:22:46.904232",
     "status": "completed"
    },
    "tags": []
   },
   "outputs": [
    {
     "name": "stdout",
     "output_type": "stream",
     "text": [
      "AUC scores for each fold: [0.99326849 0.99105637 0.99604196 0.99096496 0.99016617]\n",
      "Mean AUC score: 0.9922995910762678\n"
     ]
    }
   ],
   "source": [
    "from sklearn.model_selection import cross_val_score\n",
    "# Perform 5-fold cross-validation\n",
    "scores = cross_val_score(rf, X, y, cv=5, scoring='roc_auc')\n",
    "\n",
    "# Print each fold's AUC score and the average\n",
    "print(\"AUC scores for each fold:\", scores)\n",
    "print(\"Mean AUC score:\", scores.mean())"
   ]
  }
 ],
 "metadata": {
  "kaggle": {
   "accelerator": "none",
   "dataSources": [
    {
     "datasetId": 5465782,
     "sourceId": 9063308,
     "sourceType": "datasetVersion"
    }
   ],
   "dockerImageVersionId": 30775,
   "isGpuEnabled": false,
   "isInternetEnabled": true,
   "language": "python",
   "sourceType": "notebook"
  },
  "kernelspec": {
   "display_name": "Python [conda env:base] *",
   "language": "python",
   "name": "conda-base-py"
  },
  "language_info": {
   "codemirror_mode": {
    "name": "ipython",
    "version": 3
   },
   "file_extension": ".py",
   "mimetype": "text/x-python",
   "name": "python",
   "nbconvert_exporter": "python",
   "pygments_lexer": "ipython3",
   "version": "3.12.7"
  },
  "papermill": {
   "default_parameters": {},
   "duration": 26.298513,
   "end_time": "2024-10-02T00:22:57.597657",
   "environment_variables": {},
   "exception": null,
   "input_path": "__notebook__.ipynb",
   "output_path": "__notebook__.ipynb",
   "parameters": {},
   "start_time": "2024-10-02T00:22:31.299144",
   "version": "2.6.0"
  }
 },
 "nbformat": 4,
 "nbformat_minor": 5
}
